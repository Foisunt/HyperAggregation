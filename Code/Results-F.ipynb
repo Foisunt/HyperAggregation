{
 "cells": [
  {
   "cell_type": "code",
   "execution_count": 2,
   "id": "f34c2399-99d5-418f-bb34-49cd20ee13fd",
   "metadata": {},
   "outputs": [],
   "source": [
    "from pathlib import Path\n",
    "import pandas as pd\n",
    "from utils import collect_res_dat"
   ]
  },
  {
   "cell_type": "code",
   "execution_count": 3,
   "id": "f118a3ea-0a7b-453c-be86-071726cabe99",
   "metadata": {},
   "outputs": [],
   "source": [
    "def t2l(t):\n",
    "    r = str(t[0])\n",
    "    for e in t[1:]:\n",
    "        r += \" & \"+str(e)\n",
    "    return r\n",
    "\n",
    "\n",
    "# all vertex level datasets + cifar, mnist while searching hyperparams\n",
    "def hyp_res(df, v = \"val_acc\"):\n",
    "    for ds in df.dataset.unique():\n",
    "        print(ds)\n",
    "        df_ = df[df.dataset.eq(ds)].drop([\"trained_epochs\", \"val_loss\", \"test_loss\", \"valtest_time\", \"train_time\", \"record_train\", \"shuffle\", \"save_models\", \"batch_size_test\", \"batch_size_val\", \"early_stopping_patience\"], axis=1, errors=\"ignore\")\n",
    "\n",
    "        params = []\n",
    "        for c in df_.drop([\"val_acc\", \"test_acc\", \"statrep\"], axis=1).columns:\n",
    "            if len(df_[c].unique())>1:\n",
    "                params.append(c)\n",
    "        tmp = df_.groupby(params)\n",
    "        mean = tmp.mean(numeric_only = True)\n",
    "        std = tmp.std(numeric_only = True)\n",
    "        \n",
    "        ix = mean[v].idxmax()\n",
    "\n",
    "        print(params)\n",
    "        print(t2l(ix))\n",
    "        print(\"${:.2f}_{{{:.2f}}}$\".format(mean.loc[ix].test_acc*100, std.loc[ix].test_acc*100))\n",
    "        print(mean.loc[ix].test_acc*100)\n",
    "        print()\n",
    "\n",
    "# vertex level single setting \n",
    "def p1(df):\n",
    "    assert len(df) <= 10\n",
    "    m = df.mean(numeric_only=True).test_acc*100\n",
    "    print(m)\n",
    "    print(\"${:.2f}_{{{:.2f}}}$\".format(m, df.std(numeric_only=True).test_acc*100))\n",
    "\n",
    "# zinc while searching hyperparams\n",
    "def zinc_res(df, v = \"val_loss\"):\n",
    "    for ds in df.dataset.unique():\n",
    "        print(ds)\n",
    "        df_ = df[df.dataset.eq(ds)].drop([\"trained_epochs\", \"val_acc\", \"test_acc\", \"valtest_time\", \"train_time\", \"record_train\", \"shuffle\", \"save_models\", \"batch_size_test\", \"batch_size_val\", \"early_stopping_patience\"], axis=1, errors=\"ignore\")\n",
    "\n",
    "        params = []\n",
    "        for c in df_.drop([\"val_loss\", \"test_loss\", \"statrep\"], axis=1).columns:\n",
    "            if len(df_[c].unique())>1:\n",
    "                params.append(c)\n",
    "        tmp = df_.groupby(params)\n",
    "        mean = tmp.mean(numeric_only = True)\n",
    "        std = tmp.std(numeric_only = True)\n",
    "        \n",
    "        ix = mean[v].idxmin()\n",
    "\n",
    "        print(params)\n",
    "        print(t2l(ix))\n",
    "        #print(ix.)\n",
    "        print(\"${:.4f}_{{{:.4f}}}$\".format(mean.loc[ix].test_loss, std.loc[ix].test_loss))\n",
    "        print()\n",
    "\n",
    "# zinc results for a single setting\n",
    "def Z3(df):\n",
    "    print(\"_3 res:\")\n",
    "    print(\"${:.3f}_{{{:.3f}}}$\".format(df.mean(numeric_only = True).test_loss, df.std(numeric_only = True).test_loss))\n",
    "\n",
    "#mnist, cifar results for a single setting\n",
    "def I3(df):\n",
    "    print(\"_3 res:\")\n",
    "    print(\"${:.2f}_{{{:.2f}}}$\".format(df.mean(numeric_only = True).test_acc*100, df.std(numeric_only = True).test_acc*100))"
   ]
  },
  {
   "cell_type": "markdown",
   "id": "9810aaf9-340e-4d11-93c5-d40d5a10ccdf",
   "metadata": {},
   "source": [
    "## Examples"
   ]
  },
  {
   "cell_type": "code",
   "execution_count": 7,
   "id": "6d68d173-532d-4271-9c53-3e57ed5abaca",
   "metadata": {},
   "outputs": [
    {
     "name": "stdout",
     "output_type": "stream",
     "text": [
      "CIFAR10\n",
      "['drop_model', 'weight_decay']\n",
      "0.0 & 0.0\n",
      "$51.22_{nan}$\n",
      "51.21999979019165\n",
      "\n",
      "_3 res:\n",
      "$52.28_{0.12}$\n"
     ]
    }
   ],
   "source": [
    "pl = []\n",
    "pl.append(Path(\"../results_comb/mlp_p_Cf2.pkl\"))\n",
    "df = pd.concat([pd.read_pickle(str(p)) for p in pl], ignore_index=True)\n",
    "hyp_res(df)\n",
    "\n",
    "pl = []\n",
    "pl.append(Path(\"../results_comb/mlp_p_Cf3.pkl\"))\n",
    "df = pd.concat([pd.read_pickle(str(p)) for p in pl], ignore_index=True)\n",
    "I3(df)"
   ]
  },
  {
   "cell_type": "code",
   "execution_count": 8,
   "id": "4306ad8f-f323-4fc6-b569-24d02a186e22",
   "metadata": {},
   "outputs": [
    {
     "name": "stdout",
     "output_type": "stream",
     "text": [
      "ZINC\n",
      "['drop_mix', 'drop_model', 'weight_decay']\n",
      "0.1 & 0.1 & 0.0001\n",
      "$0.3288_{nan}$\n",
      "\n",
      "_3 res:\n",
      "$0.337_{0.020}$\n"
     ]
    }
   ],
   "source": [
    "pl = []\n",
    "\n",
    "pl.append(Path(\"../results_comb/hyp_p_Z20.pkl\"))\n",
    "pl.append(Path(\"../results_comb/hyp_p_Z21.pkl\"))\n",
    "pl.append(Path(\"../results_comb/hyp_p_Z22.pkl\"))\n",
    "pl.append(Path(\"../results_comb/hyp_p_Z203.pkl\"))\n",
    "pl.append(Path(\"../results_comb/hyp_p_Z213.pkl\"))\n",
    "pl.append(Path(\"../results_comb/hyp_p_Z223.pkl\"))\n",
    "df = pd.concat([pd.read_pickle(str(p)) for p in pl], ignore_index=True)\n",
    "zinc_res(df)\n",
    "\n",
    "\n",
    "pl = []\n",
    "pl.append(Path(\"../results_comb/hyp_p_Z3.pkl\"))\n",
    "df = pd.concat([pd.read_pickle(str(p)) for p in pl], ignore_index=True)\n",
    "Z3(df)\n"
   ]
  },
  {
   "cell_type": "code",
   "execution_count": 10,
   "id": "fa04c6f3-52cc-428b-b1f9-cc1a4318e3eb",
   "metadata": {},
   "outputs": [
    {
     "name": "stdout",
     "output_type": "stream",
     "text": [
      "Cora\n",
      "['base_optim', 'drop_input', 'drop_model', 'weight_decay']\n",
      "Adam_0.01 & 0.0 & 0.8 & 0.01\n",
      "$56.29_{2.08}$\n",
      "56.28922879695892\n",
      "\n",
      "CiteSeer\n",
      "['base_optim', 'drop_input', 'drop_model', 'weight_decay']\n",
      "Adam_0.01 & 0.0 & 0.8 & 0.1\n",
      "$55.54_{3.47}$\n",
      "55.540137588977814\n",
      "\n",
      "PubMed\n",
      "['base_optim', 'drop_input', 'drop_model', 'weight_decay']\n",
      "Adam_0.01 & 0.0 & 0.4 & 1.0\n",
      "$68.27_{2.29}$\n",
      "68.26544523239136\n",
      "\n",
      "Computers\n",
      "['base_optim', 'drop_input', 'drop_model', 'weight_decay']\n",
      "Adam_0.001 & 0.0 & 0.7 & 0.1\n",
      "$67.43_{1.79}$\n",
      "67.43435204029083\n",
      "\n",
      "Photo\n",
      "['base_optim', 'drop_input', 'drop_model', 'weight_decay']\n",
      "Adam_0.01 & 0.0 & 0.8 & 0.0001\n",
      "$78.75_{1.73}$\n",
      "78.74896943569183\n",
      "\n",
      "Arxiv\n",
      "['base_optim', 'drop_input', 'drop_model', 'weight_decay']\n",
      "Adam_0.001 & 0.0 & 0.5 & 0.0001\n",
      "$57.62_{0.07}$\n",
      "57.61784315109253\n",
      "\n"
     ]
    }
   ],
   "source": [
    "pl = []\n",
    "\n",
    "\n",
    "pl.append(Path(\"../results_comb/mlp_p_Cora2.pkl\"))\n",
    "pl.append(Path(\"../results_comb/mlp_p_Cite2.pkl\"))\n",
    "pl.append(Path(\"../results_comb/mlp_p_PM2.pkl\"))\n",
    "pl.append(Path(\"../results_comb/mlp_p_Com2.pkl\"))\n",
    "pl.append(Path(\"../results_comb/mlp_p_Pho2.pkl\"))\n",
    "pl.append(Path(\"../results_comb/mlp_p_Arx2.pkl\"))\n",
    "\n",
    "df = pd.concat([pd.read_pickle(str(p)) for p in pl], ignore_index=True)\n",
    "hyp_res(df)"
   ]
  },
  {
   "cell_type": "code",
   "execution_count": null,
   "id": "d032778f-48dc-454a-94f8-85dc5f18d13b",
   "metadata": {},
   "outputs": [],
   "source": []
  }
 ],
 "metadata": {
  "kernelspec": {
   "display_name": "Python 3 (ipykernel)",
   "language": "python",
   "name": "python3"
  },
  "language_info": {
   "codemirror_mode": {
    "name": "ipython",
    "version": 3
   },
   "file_extension": ".py",
   "mimetype": "text/x-python",
   "name": "python",
   "nbconvert_exporter": "python",
   "pygments_lexer": "ipython3",
   "version": "3.10.12"
  }
 },
 "nbformat": 4,
 "nbformat_minor": 5
}
